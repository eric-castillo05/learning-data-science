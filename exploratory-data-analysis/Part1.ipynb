{
 "cells": [
  {
   "cell_type": "markdown",
   "id": "11f49f12-e63c-4ff9-8eec-2ceded69463a",
   "metadata": {},
   "source": [
    "# Import the libraries #"
   ]
  },
  {
   "cell_type": "code",
   "execution_count": null,
   "id": "18917b67-314f-4145-adfb-6d8e6795bcfb",
   "metadata": {},
   "outputs": [],
   "source": [
    "import numpy as np\n",
    "import pandas as pd"
   ]
  },
  {
   "cell_type": "markdown",
   "id": "8fb970dd-721f-4dab-9217-862dd9398059",
   "metadata": {},
   "source": [
    "## Why we use **as**? ##\n",
    "\n",
    "In Python, the keyword as is used to create an alias (a shorter, alternative name) during the import process. This alias is then used within the current scope (usually a script or notebook) to reference the imported module or function more conveniently.\n",
    "## Why use aliases? ##\n",
    "1. **Simplification**: Aliases allow for shorter and easier-to-remember names compared to the full module path.\n",
    "2. **Readability**: They improve code readability, especially for modules with long names (e.g., `matplotlib.pyplot` becomes the more concise plt).\n",
    "3. **Convection**: Using aliases is a common practice in Python, making the code more consistent and readable for others familiar with the data science community's conventions.\n",
    "\n",
    "Once you create an alias, you can access any function within the imported module using the alias followed by a dot and the function name:\n",
    "```python\n",
    "alias_name.function_name()\n",
    "```\n",
    "\n",
    "### Example ###\n",
    "```python\n",
    "import seaborn as sns # sns as an alias for seaborn (it is a library for ploting just like matplotlib)\n",
    "sns.set_theme(style=\"ticks\") # set the them of the graphic to `ticks`"
   ]
  },
  {
   "cell_type": "markdown",
   "id": "3b854940-97e0-48fd-9022-7f5f8f8acbae",
   "metadata": {},
   "source": [
    "# Import the dataset #"
   ]
  },
  {
   "cell_type": "code",
   "execution_count": 3,
   "id": "30508aa1-eb38-4551-98a5-c62a7ec2b18e",
   "metadata": {},
   "outputs": [],
   "source": [
    "df = pd.read_csv('datasets/Employee.csv')"
   ]
  },
  {
   "cell_type": "markdown",
   "id": "20b2dc3d-28e8-4849-a19f-4e3e8c9256fb",
   "metadata": {},
   "source": [
    "## What is a df? ##\n",
    "\n",
    "A `df` is an acronym  for `dataframe`. It's a data structure organized into rows and columns, similar to a spreadsheet. However, DataFrames are more efficient and flexible, capable of handling various data types (numbers, text, categories, etc.) for complex data analysis.\n",
    "\n",
    "## Why do we type `df` instead of `dataframe`? #\n",
    "1. **Brevity**: Typing df is shorter and quicker.\n",
    "2. **Convention**: It's a widely adopted convention in the data science community, making code more readable for others.\n",
    "\n",
    "> Note: In this specific case, the data is stored in a CSV file (a comma-separated values file). However pandas can work with other formats like XML, JSON, HDF, SQL)."
   ]
  },
  {
   "cell_type": "markdown",
   "id": "0e514b49-9c82-40ed-bb43-67f69ea79371",
   "metadata": {},
   "source": [
    "# Know your data #\n",
    "We have imported the neccesary libraries, read the data, and stored it in a variable. **What's next?** Now we need to understand what we are dealing with."
   ]
  },
  {
   "cell_type": "markdown",
   "id": "c7b30526-269d-47d7-8508-a18a35de51da",
   "metadata": {},
   "source": [
    "Many datasets are too large so one useful function from pandas is the `columns` attribute. It returns the column names of the dataframe."
   ]
  },
  {
   "cell_type": "code",
   "execution_count": 11,
   "id": "6ccfd33c-b64a-45d7-9c6d-392da898be9f",
   "metadata": {},
   "outputs": [
    {
     "data": {
      "text/plain": [
       "Index(['Education', 'JoiningYear', 'City', 'PaymentTier', 'Age', 'Gender',\n",
       "       'EverBenched', 'ExperienceInCurrentDomain', 'LeaveOrNot'],\n",
       "      dtype='object')"
      ]
     },
     "execution_count": 11,
     "metadata": {},
     "output_type": "execute_result"
    }
   ],
   "source": [
    "df.columns"
   ]
  },
  {
   "cell_type": "markdown",
   "id": "f74b35fd-8180-4268-a514-3d65e1a4e7ee",
   "metadata": {},
   "source": [
    "While this works, it is a little harsh to see. Even though we know the name of the columns, we do not really know what each columns contains. So first, we are going to see the column names and their types. One naive approach is to iterate over each column and check its type."
   ]
  },
  {
   "cell_type": "code",
   "execution_count": 23,
   "id": "55d2249d-32fe-4b9d-9af1-90edd4768430",
   "metadata": {},
   "outputs": [
    {
     "name": "stdout",
     "output_type": "stream",
     "text": [
      "Education\t<class 'str'>\n",
      "JoiningYear\t<class 'str'>\n",
      "City\t<class 'str'>\n",
      "PaymentTier\t<class 'str'>\n",
      "Age\t<class 'str'>\n",
      "Gender\t<class 'str'>\n",
      "EverBenched\t<class 'str'>\n",
      "ExperienceInCurrentDomain\t<class 'str'>\n",
      "LeaveOrNot\t<class 'str'>\n"
     ]
    }
   ],
   "source": [
    "for column in df.columns:\n",
    "    print(f'{column}\\t{type(column)}')"
   ]
  },
  {
   "cell_type": "markdown",
   "id": "e0814ac2-a351-4af8-9b64-b6ccfb67974d",
   "metadata": {},
   "source": [
    "However, this approach returns incorrect data types because `type(col)` checks the type of the column name, not the data within the column. In this case, all column names are strings, so the output shows `<class 'str'> `for each column."
   ]
  },
  {
   "cell_type": "markdown",
   "id": "47067f45-2c27-4225-8f25-e01b478e3e01",
   "metadata": {},
   "source": [
    "## Accessing a Column in `df` ##\n",
    "What if we access to the `df` at a certain column?"
   ]
  },
  {
   "cell_type": "code",
   "execution_count": 19,
   "id": "dd67d998-d33b-4ad2-b2a6-cd478143ffd1",
   "metadata": {},
   "outputs": [
    {
     "data": {
      "text/plain": [
       "0       Bachelors\n",
       "1       Bachelors\n",
       "2       Bachelors\n",
       "3         Masters\n",
       "4         Masters\n",
       "          ...    \n",
       "4648    Bachelors\n",
       "4649      Masters\n",
       "4650      Masters\n",
       "4651    Bachelors\n",
       "4652    Bachelors\n",
       "Name: Education, Length: 4653, dtype: object"
      ]
     },
     "execution_count": 19,
     "metadata": {},
     "output_type": "execute_result"
    }
   ],
   "source": [
    "df['Education']"
   ]
  },
  {
   "cell_type": "markdown",
   "id": "8d139237-8306-4650-911f-d492230f80a8",
   "metadata": {},
   "source": [
    "This returns a `Series` of the column. So, whats a `Series`? According to the official documentation:\n",
    "\n",
    "> One-dimensional ndarray with axis labels (including time series).\n",
    "\n",
    "In simple words it is an array of any type. Now we can see some of the data in the column `Education` (the first 5 and the last 5). So, what if we access to the first element and check its type?"
   ]
  },
  {
   "cell_type": "code",
   "execution_count": 22,
   "id": "c380d2b1-1b26-4b2c-ae5a-908da398b56f",
   "metadata": {},
   "outputs": [
    {
     "data": {
      "text/plain": [
       "'Bachelors'"
      ]
     },
     "execution_count": 22,
     "metadata": {},
     "output_type": "execute_result"
    }
   ],
   "source": [
    "df['Education'][0]"
   ]
  },
  {
   "cell_type": "markdown",
   "id": "62ec3095-561c-4e91-b1bc-a6917b1c989b",
   "metadata": {},
   "source": [
    "Now let's replicate this for every column:\n",
    "\n"
   ]
  },
  {
   "cell_type": "code",
   "execution_count": 27,
   "id": "8f594c27-b3ac-4584-8d40-34139cbd0928",
   "metadata": {},
   "outputs": [
    {
     "name": "stdout",
     "output_type": "stream",
     "text": [
      "Education\t <class 'str'>\n",
      "JoiningYear\t <class 'numpy.int64'>\n",
      "City\t <class 'str'>\n",
      "PaymentTier\t <class 'numpy.int64'>\n",
      "Age\t <class 'numpy.int64'>\n",
      "Gender\t <class 'str'>\n",
      "EverBenched\t <class 'str'>\n",
      "ExperienceInCurrentDomain\t <class 'numpy.int64'>\n",
      "LeaveOrNot\t <class 'numpy.int64'>\n"
     ]
    }
   ],
   "source": [
    "for column in df.columns:\n",
    "    print(f'{column}\\t', type(df[column][0]))"
   ]
  },
  {
   "cell_type": "markdown",
   "id": "aab3e4cc-cce9-4bc3-a6b2-a823e68c39e9",
   "metadata": {},
   "source": [
    "This works; however, we now face another problem: what if the data type changes at some point?\n",
    "\n",
    "Let me explain. In the code above, we check only the first element, hoping that the rest of the elements have the same type. But what if an element in the column `Education` is a number at some point, or the column contains only numbers and the first element is different (this is called an `outlier`; we will explore outliers in detail later)?\n",
    "\n",
    "We need a more efficient way to check the data types. We could iterate over every element in each column and check their types."
   ]
  },
  {
   "cell_type": "code",
   "execution_count": 51,
   "id": "c786ee62-aabd-4224-afff-4d90826d1162",
   "metadata": {
    "scrolled": true
   },
   "outputs": [
    {
     "name": "stdout",
     "output_type": "stream",
     "text": [
      "Education: [<class 'str'>]\n",
      "JoiningYear: [<class 'int'>]\n",
      "City: [<class 'str'>]\n",
      "PaymentTier: [<class 'int'>]\n",
      "Age: [<class 'int'>]\n",
      "Gender: [<class 'str'>]\n",
      "EverBenched: [<class 'str'>]\n",
      "ExperienceInCurrentDomain: [<class 'int'>]\n",
      "LeaveOrNot: [<class 'int'>]\n"
     ]
    }
   ],
   "source": [
    "types = {}\n",
    "for column in df.columns:\n",
    "    for element in df[column]:\n",
    "        element_type = type(element)\n",
    "        if column not in types:\n",
    "            types[column] = [element_type]\n",
    "        elif element_type not in types[column]:\n",
    "            types[column].append(element_type)\n",
    "for key, value in types.items():\n",
    "    print(f'{key}: {value}')"
   ]
  },
  {
   "cell_type": "markdown",
   "id": "cf991c82-4880-40a0-99bc-69a620306d67",
   "metadata": {},
   "source": [
    "First, we define a dictionary. Then, we iterate over each element in each column, saving the type of each element. We check if the column is already in the dictionary. If it is not, we add a new key (the column name) with the type of the current element. If the column is already in the dictionary, we check if the type is different from the previously recorded types. If it is, we append the new type to the list.\n",
    "\n",
    "This is a quick resume of dictionaries\n",
    "\n",
    "```python\n",
    "# Dictionaries in python works like an hashmap. A hashmap store the items in `key/value` pairs.\n",
    "this_is_a_dictionary = {\n",
    "    \"Key1\": \"Value1\",\n",
    "    \"Key2\": False,\n",
    "    \"Key3\": 1,\n",
    "    \"Key4\": [1, False, \"dict\"],\n",
    "    1: 'dict'\n",
    "}\n",
    "print(this_is_a_dictionary) # Output: {'Key1': 'Value1', 'Key2': False, 'Key3': 1, 'Key4': [1, False, 'dict'], 1: 'dict'}\n",
    "\n",
    "# Accessing elements by key, similar to array indexing\n",
    "print(this_is_a_dictionary['Key1']) # Output: Value1\n",
    "print(this_is_a_dictionary[1]) # Output: dict\n",
    "```\n",
    "\n",
    "The manual method of checking data types is functional but not the most efficient. Fortunately, Pandas provides a built-in function called `dtypes` that performs this task more effectively. According to the official documentation:\n",
    "\n",
    "> This returns a Series with the data type of each column. The result’s index is the original DataFrame’s columns. Columns with mixed types are stored with the object dtype.\n",
    "\n",
    "In simpler terms, `dtypes` performs the same operation as the manual method but automatically returns `object` for columns with mixed types."
   ]
  },
  {
   "cell_type": "code",
   "execution_count": 52,
   "id": "bc810797-39bf-4b52-9bf0-7f9ef18471c2",
   "metadata": {},
   "outputs": [
    {
     "data": {
      "text/plain": [
       "Education                    object\n",
       "JoiningYear                   int64\n",
       "City                         object\n",
       "PaymentTier                   int64\n",
       "Age                           int64\n",
       "Gender                       object\n",
       "EverBenched                  object\n",
       "ExperienceInCurrentDomain     int64\n",
       "LeaveOrNot                    int64\n",
       "dtype: object"
      ]
     },
     "execution_count": 52,
     "metadata": {},
     "output_type": "execute_result"
    }
   ],
   "source": [
    "df.dtypes"
   ]
  },
  {
   "cell_type": "code",
   "execution_count": 4,
   "id": "b3b75bfc-c2a7-481d-a8ce-7ce71e8aad06",
   "metadata": {},
   "outputs": [
    {
     "data": {
      "text/html": [
       "<div>\n",
       "<style scoped>\n",
       "    .dataframe tbody tr th:only-of-type {\n",
       "        vertical-align: middle;\n",
       "    }\n",
       "\n",
       "    .dataframe tbody tr th {\n",
       "        vertical-align: top;\n",
       "    }\n",
       "\n",
       "    .dataframe thead th {\n",
       "        text-align: right;\n",
       "    }\n",
       "</style>\n",
       "<table border=\"1\" class=\"dataframe\">\n",
       "  <thead>\n",
       "    <tr style=\"text-align: right;\">\n",
       "      <th></th>\n",
       "      <th>JoiningYear</th>\n",
       "      <th>PaymentTier</th>\n",
       "      <th>Age</th>\n",
       "      <th>ExperienceInCurrentDomain</th>\n",
       "      <th>LeaveOrNot</th>\n",
       "    </tr>\n",
       "  </thead>\n",
       "  <tbody>\n",
       "    <tr>\n",
       "      <th>count</th>\n",
       "      <td>4653.000000</td>\n",
       "      <td>4653.000000</td>\n",
       "      <td>4653.000000</td>\n",
       "      <td>4653.000000</td>\n",
       "      <td>4653.000000</td>\n",
       "    </tr>\n",
       "    <tr>\n",
       "      <th>mean</th>\n",
       "      <td>2015.062970</td>\n",
       "      <td>2.698259</td>\n",
       "      <td>29.393295</td>\n",
       "      <td>2.905652</td>\n",
       "      <td>0.343864</td>\n",
       "    </tr>\n",
       "    <tr>\n",
       "      <th>std</th>\n",
       "      <td>1.863377</td>\n",
       "      <td>0.561435</td>\n",
       "      <td>4.826087</td>\n",
       "      <td>1.558240</td>\n",
       "      <td>0.475047</td>\n",
       "    </tr>\n",
       "    <tr>\n",
       "      <th>min</th>\n",
       "      <td>2012.000000</td>\n",
       "      <td>1.000000</td>\n",
       "      <td>22.000000</td>\n",
       "      <td>0.000000</td>\n",
       "      <td>0.000000</td>\n",
       "    </tr>\n",
       "    <tr>\n",
       "      <th>25%</th>\n",
       "      <td>2013.000000</td>\n",
       "      <td>3.000000</td>\n",
       "      <td>26.000000</td>\n",
       "      <td>2.000000</td>\n",
       "      <td>0.000000</td>\n",
       "    </tr>\n",
       "    <tr>\n",
       "      <th>50%</th>\n",
       "      <td>2015.000000</td>\n",
       "      <td>3.000000</td>\n",
       "      <td>28.000000</td>\n",
       "      <td>3.000000</td>\n",
       "      <td>0.000000</td>\n",
       "    </tr>\n",
       "    <tr>\n",
       "      <th>75%</th>\n",
       "      <td>2017.000000</td>\n",
       "      <td>3.000000</td>\n",
       "      <td>32.000000</td>\n",
       "      <td>4.000000</td>\n",
       "      <td>1.000000</td>\n",
       "    </tr>\n",
       "    <tr>\n",
       "      <th>max</th>\n",
       "      <td>2018.000000</td>\n",
       "      <td>3.000000</td>\n",
       "      <td>41.000000</td>\n",
       "      <td>7.000000</td>\n",
       "      <td>1.000000</td>\n",
       "    </tr>\n",
       "  </tbody>\n",
       "</table>\n",
       "</div>"
      ],
      "text/plain": [
       "       JoiningYear  PaymentTier          Age  ExperienceInCurrentDomain  \\\n",
       "count  4653.000000  4653.000000  4653.000000                4653.000000   \n",
       "mean   2015.062970     2.698259    29.393295                   2.905652   \n",
       "std       1.863377     0.561435     4.826087                   1.558240   \n",
       "min    2012.000000     1.000000    22.000000                   0.000000   \n",
       "25%    2013.000000     3.000000    26.000000                   2.000000   \n",
       "50%    2015.000000     3.000000    28.000000                   3.000000   \n",
       "75%    2017.000000     3.000000    32.000000                   4.000000   \n",
       "max    2018.000000     3.000000    41.000000                   7.000000   \n",
       "\n",
       "        LeaveOrNot  \n",
       "count  4653.000000  \n",
       "mean      0.343864  \n",
       "std       0.475047  \n",
       "min       0.000000  \n",
       "25%       0.000000  \n",
       "50%       0.000000  \n",
       "75%       1.000000  \n",
       "max       1.000000  "
      ]
     },
     "execution_count": 4,
     "metadata": {},
     "output_type": "execute_result"
    }
   ],
   "source": [
    "df.describe()"
   ]
  },
  {
   "cell_type": "code",
   "execution_count": 9,
   "id": "88e0834a-d7f9-4f14-82a8-8230e8b74a47",
   "metadata": {},
   "outputs": [
    {
     "name": "stdout",
     "output_type": "stream",
     "text": [
      "<class 'pandas.core.frame.DataFrame'>\n",
      "RangeIndex: 4653 entries, 0 to 4652\n",
      "Data columns (total 9 columns):\n",
      " #   Column                     Non-Null Count  Dtype \n",
      "---  ------                     --------------  ----- \n",
      " 0   Education                  4653 non-null   object\n",
      " 1   JoiningYear                4653 non-null   int64 \n",
      " 2   City                       4653 non-null   object\n",
      " 3   PaymentTier                4653 non-null   int64 \n",
      " 4   Age                        4653 non-null   int64 \n",
      " 5   Gender                     4653 non-null   object\n",
      " 6   EverBenched                4653 non-null   object\n",
      " 7   ExperienceInCurrentDomain  4653 non-null   int64 \n",
      " 8   LeaveOrNot                 4653 non-null   int64 \n",
      "dtypes: int64(5), object(4)\n",
      "memory usage: 327.3+ KB\n"
     ]
    }
   ],
   "source": [
    "df.info()"
   ]
  }
 ],
 "metadata": {
  "kernelspec": {
   "display_name": "EDA",
   "language": "python",
   "name": "eda"
  },
  "language_info": {
   "codemirror_mode": {
    "name": "ipython",
    "version": 3
   },
   "file_extension": ".py",
   "mimetype": "text/x-python",
   "name": "python",
   "nbconvert_exporter": "python",
   "pygments_lexer": "ipython3",
   "version": "3.12.2"
  }
 },
 "nbformat": 4,
 "nbformat_minor": 5
}
